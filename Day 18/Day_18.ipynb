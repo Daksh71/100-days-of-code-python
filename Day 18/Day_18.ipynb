{
 "cells": [
  {
   "cell_type": "code",
   "execution_count": null,
   "id": "425245a1",
   "metadata": {},
   "outputs": [],
   "source": [
    "from turtle  import Turtle, Screen\n",
    "import random\n",
    "\n",
    "yo = Turtle()\n",
    "screen = Screen()\n",
    "yo.color(\"red\")\n",
    "yo.shape(\"turtle\")\n",
    "\n",
    "yo.forward(90)\n",
    "yo.right(90)\n",
    "\n",
    "yo.forward(90)\n",
    "yo.right(90)\n",
    "\n",
    "yo.forward(90)\n",
    "yo.right(90)\n",
    "\n",
    "yo.forward(90)\n",
    "yo.right(90)\n",
    "screen.exitonclick()"
   ]
  },
  {
   "cell_type": "code",
   "execution_count": 1,
   "id": "e9d218e6",
   "metadata": {},
   "outputs": [
    {
     "name": "stderr",
     "output_type": "stream",
     "text": [
      "python: can't open file 'c:\\\\Python(Course)\\\\python course\\\\turtle_graphics.py': [Errno 2] No such file or directory\n"
     ]
    }
   ],
   "source": [
    "!python turtle_graphics.py\n"
   ]
  }
 ],
 "metadata": {
  "kernelspec": {
   "display_name": "base",
   "language": "python",
   "name": "python3"
  },
  "language_info": {
   "codemirror_mode": {
    "name": "ipython",
    "version": 3
   },
   "file_extension": ".py",
   "mimetype": "text/x-python",
   "name": "python",
   "nbconvert_exporter": "python",
   "pygments_lexer": "ipython3",
   "version": "3.13.5"
  }
 },
 "nbformat": 4,
 "nbformat_minor": 5
}
